{
  "nbformat": 4,
  "nbformat_minor": 0,
  "metadata": {
    "colab": {
      "provenance": [],
      "authorship_tag": "ABX9TyPWNjo+qevzUlkd+d3jJsWj",
      "include_colab_link": true
    },
    "kernelspec": {
      "name": "python3",
      "display_name": "Python 3"
    },
    "language_info": {
      "name": "python"
    }
  },
  "cells": [
    {
      "cell_type": "markdown",
      "metadata": {
        "id": "view-in-github",
        "colab_type": "text"
      },
      "source": [
        "<a href=\"https://colab.research.google.com/github/arjuunns/Cognitive-computing/blob/main/AI_Assignment3.ipynb\" target=\"_parent\"><img src=\"https://colab.research.google.com/assets/colab-badge.svg\" alt=\"Open In Colab\"/></a>"
      ]
    },
    {
      "cell_type": "markdown",
      "source": [
        "Program to Finding Compound Interest"
      ],
      "metadata": {
        "id": "0HgOvQ3d8S75"
      }
    },
    {
      "cell_type": "code",
      "source": [
        "def compound_interest(p,r,t):\n",
        "  amount = p*(1+(r/100))**t\n",
        "  return amount - p\n",
        "\n",
        "principal = float(input(\"Enter the principal amount : \"))\n",
        "rate = float(input(\"Enter the rate : \"))\n",
        "time = float(input(\"Enter the time : \"))\n",
        "ci = compound_interest(principal,rate,time)\n",
        "print(\"Compound Interest is : \",ci)\n"
      ],
      "metadata": {
        "colab": {
          "base_uri": "https://localhost:8080/"
        },
        "id": "nHyFUQ5B8ho0",
        "outputId": "b7a022d9-2d0b-4bb5-a362-147b3bd59637"
      },
      "execution_count": null,
      "outputs": [
        {
          "output_type": "stream",
          "name": "stdout",
          "text": [
            "Enter the principal amount : 1000\n",
            "Enter the rate : 10\n",
            "Enter the time : 2\n",
            "Compound Interest is :  210.00000000000023\n"
          ]
        }
      ]
    },
    {
      "cell_type": "code",
      "source": [
        "marks = {\n",
        "    \"Arjun\" : [88,87,68,76,89],\n",
        "    \"Krishna\" : [99,98,79,81,76],\n",
        "    \"Suyash\" : [77,78,86,82,58],\n",
        "    \"Ramu\": [78, 92, 85, 67, 79],\n",
        "    \"Shyam\": [90, 88, 76, 82, 93],\n",
        "    \"Bharat\": [85, 89, 79, 81, 87],\n",
        "    \"Mannu\": [76, 83, 88, 91, 75],\n",
        "    \"Lalit\": [92, 95, 87, 80, 91],\n",
        "    \"Sakshi\": [88, 86, 90, 83, 89],\n",
        "    \"Krit\": [95, 93, 92, 88, 94]\n",
        "}\n",
        "highestOverall = 0\n",
        "lowestOverall = 101\n",
        "averageOverall = 0\n",
        "TotalSum = 0\n",
        "StudentAvg = 0\n",
        "for val in marks.values():\n",
        "    highestOverall = max(max(val),highestOverall)\n",
        "    lowestOverall = min(min(val),lowestOverall)\n",
        "    StudentAvg = sum(val)/5\n",
        "    TotalSum = TotalSum + StudentAvg\n",
        "\n",
        "print(highestOverall)\n",
        "print(lowestOverall)\n",
        "print(TotalSum/10)"
      ],
      "metadata": {
        "colab": {
          "base_uri": "https://localhost:8080/"
        },
        "id": "Vt4nE5Cr-2h-",
        "outputId": "8883c7d7-0db4-4b4e-8955-0dede6965018"
      },
      "execution_count": null,
      "outputs": [
        {
          "output_type": "stream",
          "name": "stdout",
          "text": [
            "99\n",
            "58\n",
            "84.58\n"
          ]
        }
      ]
    }
  ]
}