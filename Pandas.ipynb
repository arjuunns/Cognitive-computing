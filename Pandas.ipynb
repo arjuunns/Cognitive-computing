{
  "nbformat": 4,
  "nbformat_minor": 0,
  "metadata": {
    "colab": {
      "provenance": [],
      "authorship_tag": "ABX9TyPi/YdSduyEELAojpibj/iH",
      "include_colab_link": true
    },
    "kernelspec": {
      "name": "python3",
      "display_name": "Python 3"
    },
    "language_info": {
      "name": "python"
    }
  },
  "cells": [
    {
      "cell_type": "markdown",
      "metadata": {
        "id": "view-in-github",
        "colab_type": "text"
      },
      "source": [
        "<a href=\"https://colab.research.google.com/github/arjuunns/Cognitive-computing/blob/main/Pandas.ipynb\" target=\"_parent\"><img src=\"https://colab.research.google.com/assets/colab-badge.svg\" alt=\"Open In Colab\"/></a>"
      ]
    },
    {
      "cell_type": "code",
      "execution_count": null,
      "metadata": {
        "id": "ZUkzmowoFMsM"
      },
      "outputs": [],
      "source": [
        "import pandas as pd\n",
        "# Q.1 Create a dataset as follow in the table."
      ]
    },
    {
      "cell_type": "code",
      "source": [
        "data = {\n",
        "    'Tid': [1,2,3,4,5,6,7,8,9,10],\n",
        "    'Refund' : ['Yes','No','No','Yes','No','No','Yes','No','No','No'],\n",
        "    'Marital Status' : ['Single','Married','Single','Married','Divorced','Married','Divorced','Single','Married','Single'],\n",
        "    'Taxable Income' : ['125K','100K','70K','120K','95K','60K','220K','85K','75K','90K'],\n",
        "    'Cheat' : ['No','No','No','No','Yes','No','No','Yes','No','Yes'],\n",
        "}\n",
        "\n",
        "df = pd.DataFrame(data)\n",
        "print(df)"
      ],
      "metadata": {
        "colab": {
          "base_uri": "https://localhost:8080/"
        },
        "id": "mBQYHKVeFcgW",
        "outputId": "b5dea5aa-b09d-4ed9-aac2-7972585a30a8"
      },
      "execution_count": null,
      "outputs": [
        {
          "output_type": "stream",
          "name": "stdout",
          "text": [
            "   Tid Refund Marital Status Taxable Income Cheat\n",
            "0    1    Yes         Single           125K    No\n",
            "1    2     No        Married           100K    No\n",
            "2    3     No         Single            70K    No\n",
            "3    4    Yes        Married           120K    No\n",
            "4    5     No       Divorced            95K   Yes\n",
            "5    6     No        Married            60K    No\n",
            "6    7    Yes       Divorced           220K    No\n",
            "7    8     No         Single            85K   Yes\n",
            "8    9     No        Married            75K    No\n",
            "9   10     No         Single            90K   Yes\n"
          ]
        }
      ]
    },
    {
      "cell_type": "code",
      "source": [
        "# Q.2 From the above table that you have created, locate row 0, 4, 7 and 8 using DataFrame\n",
        "print(df.loc[[0,4,7,8]])"
      ],
      "metadata": {
        "colab": {
          "base_uri": "https://localhost:8080/"
        },
        "id": "3K82hBM2HCpe",
        "outputId": "b9973e87-45ab-4129-ad99-d2014b5874d7"
      },
      "execution_count": null,
      "outputs": [
        {
          "output_type": "stream",
          "name": "stdout",
          "text": [
            "   Tid Refund Marital Status Taxable Income Cheat\n",
            "0    1    Yes         Single           125K    No\n",
            "4    5     No       Divorced            95K   Yes\n",
            "7    8     No         Single            85K   Yes\n",
            "8    9     No        Married            75K    No\n"
          ]
        }
      ]
    },
    {
      "cell_type": "code",
      "source": [
        "# Q.3 Navigate the DataFrame and do the following task for the table created in question 1:\n",
        "# 1. Select row from index 3 to 7.\n",
        "# 2. Select row from index 4 to 8, and column 2 to 4.\n",
        "# 3. Select all rows with column index 1 to 3 (include index 3 during selection).\n",
        "print(df.iloc[3:7])\n",
        "print('\\n*********************************************************************************************************')\n",
        "print(df.iloc[4:8,2:4])\n",
        "print('\\n*********************************************************************************************************')\n",
        "print(df.iloc[:,1:4])"
      ],
      "metadata": {
        "colab": {
          "base_uri": "https://localhost:8080/"
        },
        "id": "9orJr8OdIEiV",
        "outputId": "1e140aaf-71b9-477f-d96c-4e6feedffb4c"
      },
      "execution_count": null,
      "outputs": [
        {
          "output_type": "stream",
          "name": "stdout",
          "text": [
            "   Tid Refund Marital Status Taxable Income Cheat\n",
            "3    4    Yes        Married           120K    No\n",
            "4    5     No       Divorced            95K   Yes\n",
            "5    6     No        Married            60K    No\n",
            "6    7    Yes       Divorced           220K    No\n",
            "\n",
            "*********************************************************************************************************\n",
            "  Marital Status Taxable Income\n",
            "4       Divorced            95K\n",
            "5        Married            60K\n",
            "6       Divorced           220K\n",
            "7         Single            85K\n",
            "\n",
            "*********************************************************************************************************\n",
            "  Refund Marital Status Taxable Income\n",
            "0    Yes         Single           125K\n",
            "1     No        Married           100K\n",
            "2     No         Single            70K\n",
            "3    Yes        Married           120K\n",
            "4     No       Divorced            95K\n",
            "5     No        Married            60K\n",
            "6    Yes       Divorced           220K\n",
            "7     No         Single            85K\n",
            "8     No        Married            75K\n",
            "9     No         Single            90K\n"
          ]
        }
      ]
    },
    {
      "cell_type": "code",
      "source": [
        "# Q.4 Read a csv file and display its first five rows.\n",
        "# Note-: Download dataset from https://www.kaggle.com/datasets/uciml/iris)\n",
        "import kagglehub\n",
        "# Download latest version\n",
        "path = kagglehub.dataset_download(\"uciml/iris\")\n",
        "# print(\"Path to dataset files:\", path)\n",
        "DataSet = pd.read_csv(path +'/Iris.csv')\n",
        "print(DataSet.head())"
      ],
      "metadata": {
        "colab": {
          "base_uri": "https://localhost:8080/"
        },
        "id": "3dopJGw7JB78",
        "outputId": "aff8983d-070a-454b-bcf7-241044e76824"
      },
      "execution_count": null,
      "outputs": [
        {
          "output_type": "stream",
          "name": "stdout",
          "text": [
            "   Id  SepalLengthCm  SepalWidthCm  PetalLengthCm  PetalWidthCm      Species\n",
            "0   1            5.1           3.5            1.4           0.2  Iris-setosa\n",
            "1   2            4.9           3.0            1.4           0.2  Iris-setosa\n",
            "2   3            4.7           3.2            1.3           0.2  Iris-setosa\n",
            "3   4            4.6           3.1            1.5           0.2  Iris-setosa\n",
            "4   5            5.0           3.6            1.4           0.2  Iris-setosa\n"
          ]
        }
      ]
    },
    {
      "cell_type": "code",
      "source": [
        "# Q.5 From the csv file (uploaded in the Q.4) delete row 4, and delete column 3. Display the\n",
        "# result.\n",
        "\n",
        "DataSet.drop(DataSet.columns[3],axis = 1,inplace=True)\n",
        "DataSet.drop(4,axis = 0,inplace=True)\n",
        "print(DataSet)"
      ],
      "metadata": {
        "colab": {
          "base_uri": "https://localhost:8080/"
        },
        "id": "m-iK5520KI0L",
        "outputId": "22107d8e-b95c-4a25-9ade-51b36c0394c5"
      },
      "execution_count": null,
      "outputs": [
        {
          "output_type": "stream",
          "name": "stdout",
          "text": [
            "      Id  SepalLengthCm  SepalWidthCm  PetalWidthCm         Species\n",
            "0      1            5.1           3.5           0.2     Iris-setosa\n",
            "1      2            4.9           3.0           0.2     Iris-setosa\n",
            "2      3            4.7           3.2           0.2     Iris-setosa\n",
            "3      4            4.6           3.1           0.2     Iris-setosa\n",
            "5      6            5.4           3.9           0.4     Iris-setosa\n",
            "..   ...            ...           ...           ...             ...\n",
            "145  146            6.7           3.0           2.3  Iris-virginica\n",
            "146  147            6.3           2.5           1.9  Iris-virginica\n",
            "147  148            6.5           3.0           2.0  Iris-virginica\n",
            "148  149            6.2           3.4           2.3  Iris-virginica\n",
            "149  150            5.9           3.0           1.8  Iris-virginica\n",
            "\n",
            "[149 rows x 5 columns]\n"
          ]
        }
      ]
    },
    {
      "cell_type": "code",
      "source": [
        "# Q.6 Create a sample dataset (employees.csv) containing information about employees in a company.\n",
        "\n",
        "data2 = {\n",
        "    \"Employee_ID\": [101, 102, 103, 104, 105],\n",
        "    \"Name\": [\"Alice\", \"Bob\", \"Charlie\", \"Diana\", \"Edward\"],\n",
        "    \"Department\": [\"HR\", \"IT\", \"IT\", \"Marketing\", \"Sales\"],\n",
        "    \"Age\": [29, 34, 41, 28, 38],\n",
        "    \"Salary\": [50000, 70000, 65000, 55000, 60000],\n",
        "    \"Years_of_Experience\": [4, 8, 10, 2, 12],\n",
        "    \"Joining_Date\": [\"2020-03-15\", \"2017-07-19\", \"2013-06-01\", \"2021-02-10\", \"2010-11-25\"],\n",
        "    \"Gender\": [\"Female\", \"Male\", \"Male\", \"Female\", \"Male\"],\n",
        "    \"Bonus\": [5000, 7000, 6000, 4500, 5000],\n",
        "    \"Rating\": [4.5, 4.0, 3.8, 4.7, 3.5]\n",
        "}\n",
        "\n",
        "empData = pd.DataFrame(data2)\n",
        "print(empData)"
      ],
      "metadata": {
        "colab": {
          "base_uri": "https://localhost:8080/"
        },
        "id": "-0Tc2EYTLN28",
        "outputId": "7e1c5e04-6b2d-48eb-94d2-9102ea2929e3"
      },
      "execution_count": null,
      "outputs": [
        {
          "output_type": "stream",
          "name": "stdout",
          "text": [
            "   Employee_ID     Name Department  Age  Salary  Years_of_Experience  \\\n",
            "0          101    Alice         HR   29   50000                    4   \n",
            "1          102      Bob         IT   34   70000                    8   \n",
            "2          103  Charlie         IT   41   65000                   10   \n",
            "3          104    Diana  Marketing   28   55000                    2   \n",
            "4          105   Edward      Sales   38   60000                   12   \n",
            "\n",
            "  Joining_Date  Gender  Bonus  Rating  \n",
            "0   2020-03-15  Female   5000     4.5  \n",
            "1   2017-07-19    Male   7000     4.0  \n",
            "2   2013-06-01    Male   6000     3.8  \n",
            "3   2021-02-10  Female   4500     4.7  \n",
            "4   2010-11-25    Male   5000     3.5  \n"
          ]
        }
      ]
    },
    {
      "cell_type": "code",
      "source": [
        "# a) Shape (number of rows and columns) of the DataFrame\n",
        "size = empData.shape\n",
        "print('Number of (Rows,Columns) : ',size)"
      ],
      "metadata": {
        "colab": {
          "base_uri": "https://localhost:8080/"
        },
        "id": "8KHbIsn6MVJe",
        "outputId": "ed8c686e-d517-41c0-ac14-0944a92bcbff"
      },
      "execution_count": null,
      "outputs": [
        {
          "output_type": "stream",
          "name": "stdout",
          "text": [
            "Number of (Rows,Columns) :  (5, 10)\n"
          ]
        }
      ]
    },
    {
      "cell_type": "code",
      "source": [
        "# b) Summary of the DataFrame that includes the data types and non-null counts for each column.\n",
        "summary = empData.describe();\n",
        "print(\"Summary of Employee Data is :\",summary)"
      ],
      "metadata": {
        "id": "UpTSKyjGNN8Q",
        "colab": {
          "base_uri": "https://localhost:8080/"
        },
        "outputId": "101709dc-3e06-45c7-d4d2-d38f2492acd7"
      },
      "execution_count": null,
      "outputs": [
        {
          "output_type": "stream",
          "name": "stdout",
          "text": [
            "Summary of Employee Data is :        Employee_ID        Age       Salary  Years_of_Experience   Bonus  \\\n",
            "count     5.000000   5.000000      5.00000             5.000000     5.0   \n",
            "mean    103.000000  34.000000  60000.00000             7.200000  5500.0   \n",
            "std       1.581139   5.612486   7905.69415             4.147288  1000.0   \n",
            "min     101.000000  28.000000  50000.00000             2.000000  4500.0   \n",
            "25%     102.000000  29.000000  55000.00000             4.000000  5000.0   \n",
            "50%     103.000000  34.000000  60000.00000             8.000000  5000.0   \n",
            "75%     104.000000  38.000000  65000.00000            10.000000  6000.0   \n",
            "max     105.000000  41.000000  70000.00000            12.000000  7000.0   \n",
            "\n",
            "         Rating  \n",
            "count  5.000000  \n",
            "mean   4.100000  \n",
            "std    0.494975  \n",
            "min    3.500000  \n",
            "25%    3.800000  \n",
            "50%    4.000000  \n",
            "75%    4.500000  \n",
            "max    4.700000  \n"
          ]
        }
      ]
    },
    {
      "cell_type": "code",
      "source": [
        "# c) Generate descriptive statistics.\n",
        "# Done Above"
      ],
      "metadata": {
        "id": "F4_etsAIN1ZO"
      },
      "execution_count": null,
      "outputs": []
    },
    {
      "cell_type": "code",
      "source": [
        "# d) Display the first 5 rows and last 3 rows of the dataset.\n",
        "print(empData.head());\n",
        "print('****************************************************************')\n",
        "print(empData.tail(3))"
      ],
      "metadata": {
        "colab": {
          "base_uri": "https://localhost:8080/"
        },
        "id": "VXeXfNzgODMZ",
        "outputId": "59401740-023f-4a16-ec89-6c21bb13537b"
      },
      "execution_count": null,
      "outputs": [
        {
          "output_type": "stream",
          "name": "stdout",
          "text": [
            "   Employee_ID     Name Department  Age  Salary  Years_of_Experience  \\\n",
            "0          101    Alice         HR   29   50000                    4   \n",
            "1          102      Bob         IT   34   70000                    8   \n",
            "2          103  Charlie         IT   41   65000                   10   \n",
            "3          104    Diana  Marketing   28   55000                    2   \n",
            "4          105   Edward      Sales   38   60000                   12   \n",
            "\n",
            "  Joining_Date  Gender  Bonus  Rating  \n",
            "0   2020-03-15  Female   5000     4.5  \n",
            "1   2017-07-19    Male   7000     4.0  \n",
            "2   2013-06-01    Male   6000     3.8  \n",
            "3   2021-02-10  Female   4500     4.7  \n",
            "4   2010-11-25    Male   5000     3.5  \n",
            "****************************************************************\n",
            "   Employee_ID     Name Department  Age  Salary  Years_of_Experience  \\\n",
            "2          103  Charlie         IT   41   65000                   10   \n",
            "3          104    Diana  Marketing   28   55000                    2   \n",
            "4          105   Edward      Sales   38   60000                   12   \n",
            "\n",
            "  Joining_Date  Gender  Bonus  Rating  \n",
            "2   2013-06-01    Male   6000     3.8  \n",
            "3   2021-02-10  Female   4500     4.7  \n",
            "4   2010-11-25    Male   5000     3.5  \n"
          ]
        }
      ]
    },
    {
      "cell_type": "code",
      "source": [
        "# e) Calculate the following statistics from the dataset:\n",
        "# i. The average salary of employees.\n",
        "# ii. The total bonus paid to all employees.\n",
        "# iii. The youngest employee's age.\n",
        "# iv. The highest performance rating.\n",
        "\n",
        "print('Average Salary : ',empData['Salary'].sum()/empData['Salary'].count())\n",
        "print('Total Bonus : ',empData['Bonus'].sum())\n",
        "print('Youngest employes age is : ',empData['Age'].min())\n",
        "print('Highest performance rating is : ',empData['Rating'].max())"
      ],
      "metadata": {
        "colab": {
          "base_uri": "https://localhost:8080/"
        },
        "id": "Xt6DI__COyGt",
        "outputId": "d7c29041-9749-4091-a878-ec481dadde21"
      },
      "execution_count": null,
      "outputs": [
        {
          "output_type": "stream",
          "name": "stdout",
          "text": [
            "Average Salary :  60000.0\n",
            "Total Bonus :  27500\n",
            "Youngest employes age is :  28\n",
            "Highest performance rating is :  4.7\n"
          ]
        }
      ]
    },
    {
      "cell_type": "code",
      "source": [
        "# f) Sort the DataFrame by the Salary column in descending order.\n",
        "\n",
        "print(empData.sort_values(by=['Salary'],ascending=[False]))"
      ],
      "metadata": {
        "colab": {
          "base_uri": "https://localhost:8080/"
        },
        "id": "QccDMnzLP6D7",
        "outputId": "9d1ebe19-467c-4235-f315-758a69a09d13"
      },
      "execution_count": null,
      "outputs": [
        {
          "output_type": "stream",
          "name": "stdout",
          "text": [
            "   Employee_ID     Name Department  Age  Salary  Years_of_Experience  \\\n",
            "1          102      Bob         IT   34   70000                    8   \n",
            "2          103  Charlie         IT   41   65000                   10   \n",
            "4          105   Edward      Sales   38   60000                   12   \n",
            "3          104    Diana  Marketing   28   55000                    2   \n",
            "0          101    Alice         HR   29   50000                    4   \n",
            "\n",
            "  Joining_Date  Gender  Bonus  Rating  \n",
            "1   2017-07-19    Male   7000     4.0  \n",
            "2   2013-06-01    Male   6000     3.8  \n",
            "4   2010-11-25    Male   5000     3.5  \n",
            "3   2021-02-10  Female   4500     4.7  \n",
            "0   2020-03-15  Female   5000     4.5  \n"
          ]
        }
      ]
    },
    {
      "cell_type": "code",
      "source": [
        "# g) Add a new column that categorizes employees based on their performance rating:\n",
        "# i. Excellent for ratings >= 4.5\n",
        "# ii. Good for ratings >= 4.0 but < 4.5\n",
        "# iii. Average for ratings < 4.0\n",
        "\n"
      ],
      "metadata": {
        "id": "X_zE_y5hQrrW"
      },
      "execution_count": null,
      "outputs": []
    }
  ]
}